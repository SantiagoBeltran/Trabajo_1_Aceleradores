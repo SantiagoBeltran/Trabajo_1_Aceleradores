{
 "cells": [
  {
   "cell_type": "code",
   "execution_count": 11,
   "metadata": {},
   "outputs": [
    {
     "name": "stdout",
     "output_type": "stream",
     "text": [
      "Populating the interactive namespace from numpy and matplotlib\n"
     ]
    },
    {
     "name": "stderr",
     "output_type": "stream",
     "text": [
      "/srv/conda/envs/notebook/lib/python3.7/site-packages/IPython/core/magics/pylab.py:160: UserWarning: pylab import has clobbered these variables: ['multinomial']\n",
      "`%matplotlib` prevents importing * from pylab and numpy\n",
      "  \"\\n`%matplotlib` prevents importing * from pylab and numpy\"\n"
     ]
    }
   ],
   "source": [
    "import scipy.special as sc\n",
    "import numpy as np\n",
    "import math\n",
    "%pylab inline"
   ]
  },
  {
   "cell_type": "code",
   "execution_count": 12,
   "metadata": {},
   "outputs": [
    {
     "data": {
      "text/plain": [
       "array([0.75, 0.25])"
      ]
     },
     "execution_count": 12,
     "metadata": {},
     "output_type": "execute_result"
    }
   ],
   "source": [
    "def W0(N):\n",
    "    x=np.zeros(N+1)\n",
    "    for j in range(len(x)):\n",
    "        x[j]=2*sc.gamma(j+1)*sc.gamma(N-j+1)/sc.gamma(N+2)*(1-sc.betainc(N-j+1,j+1,0.5))\n",
    "        #print(\"Para j={} se obtiene {} y {} luego {}.\".format(j,sc.gamma(j+1)*sc.gamma(N-j+1)/sc.gamma(N+1),sc.betainc(N-j+1,j+1,0.5),x[j]))\n",
    "    return x\n",
    "W0(1)"
   ]
  },
  {
   "cell_type": "code",
   "execution_count": 13,
   "metadata": {},
   "outputs": [
    {
     "data": {
      "text/plain": [
       "array([0.328125  , 0.059375  , 0.021875  , 0.01145833, 0.00729167])"
      ]
     },
     "execution_count": 13,
     "metadata": {},
     "output_type": "execute_result"
    }
   ],
   "source": [
    "def W1(N):\n",
    "    x=np.zeros(N+1)\n",
    "    for j in range(len(x)):\n",
    "        x[j]=2*sc.gamma(j+1)*sc.gamma(N-j+2)/sc.gamma(N+3)*(1-sc.betainc(N-j+2,j+1,0.5))\n",
    "        #print(\"Para j={} se obtiene {} y {} luego {}.\".format(j,sc.gamma(j+1)*sc.gamma(N-j+1)/sc.gamma(N+1),sc.betainc(N-j+1,j+1,0.5),x[j]))\n",
    "    return x\n",
    "W1(4)"
   ]
  },
  {
   "cell_type": "code",
   "execution_count": 14,
   "metadata": {},
   "outputs": [],
   "source": [
    "def W2(N):\n",
    "    x=np.zeros(N+1)\n",
    "    for j in range(len(x)):\n",
    "        x[j]=2*sc.gamma(j+1)*sc.gamma(N-j+3)/sc.gamma(N+4)*(1-sc.betainc(N-j+3,j+1,0.5))\n",
    "        #print(\"Para j={} se obtiene {} y {} luego {}.\".format(j,sc.gamma(j+1)*sc.gamma(N-j+1)/sc.gamma(N+1),sc.betainc(N-j+1,j+1,0.5),x[j]))\n",
    "    return x"
   ]
  },
  {
   "cell_type": "code",
   "execution_count": 15,
   "metadata": {},
   "outputs": [
    {
     "data": {
      "text/plain": [
       "array([  1.,  10.,  45., 120., 210., 252., 210., 120.,  45.,  10.,   1.])"
      ]
     },
     "execution_count": 15,
     "metadata": {},
     "output_type": "execute_result"
    }
   ],
   "source": [
    "def multinomial(N):\n",
    "    x=np.zeros(N+1)\n",
    "    for j in range(len(x)):\n",
    "        x[j]=sc.gamma(N+1)/(sc.gamma(N-j+1)*sc.gamma(j+1))\n",
    "        #print(\"Para j={} se obtiene {} y {} luego {}.\".format(j,sc.gamma(j+1)*sc.gamma(N-j+1)/sc.gamma(N+1),sc.betainc(N-j+1,j+1,0.5),x[j]))\n",
    "    return x\n",
    "multinomial(10)"
   ]
  },
  {
   "cell_type": "code",
   "execution_count": 16,
   "metadata": {},
   "outputs": [
    {
     "data": {
      "text/plain": [
       "array([5.63436060e-03, 5.01373626e-03, 2.26004464e-03, 5.62169312e-04,\n",
       "       6.20039683e-05])"
      ]
     },
     "execution_count": 16,
     "metadata": {},
     "output_type": "execute_result"
    }
   ],
   "source": [
    "(W2(4)-W1(4)**2/W0(4))*multinomial(4)"
   ]
  },
  {
   "cell_type": "code",
   "execution_count": 17,
   "metadata": {},
   "outputs": [],
   "source": [
    "def costoN(N):\n",
    "    costo=np.zeros(N)\n",
    "    Ncopy=np.zeros(N)\n",
    "    for j in range(len(costo)):\n",
    "        Ncopy[j]=j+1\n",
    "        costo[j]=np.sum((W2(j+1)-W1(j+1)**2/W0(j+1))*multinomial(j+1))\n",
    "    return Ncopy, costo"
   ]
  },
  {
   "cell_type": "code",
   "execution_count": 18,
   "metadata": {},
   "outputs": [
    {
     "data": {
      "text/plain": [
       "(array([ 1.,  2.,  3.,  4.,  5.,  6.,  7.,  8.,  9., 10., 11., 12., 13.,\n",
       "        14., 15., 16., 17., 18., 19., 20., 21., 22., 23., 24., 25., 26.,\n",
       "        27., 28., 29., 30.]),\n",
       " array([0.01851852, 0.01655506, 0.01490909, 0.01353231, 0.01237556,\n",
       "        0.0113958 , 0.01055811, 0.00983506, 0.00920532, 0.00865226,\n",
       "        0.00816286, 0.0077268 , 0.00733585, 0.00698336, 0.00666392,\n",
       "        0.00637307, 0.00610712, 0.00586299, 0.00563808, 0.0054302 ,\n",
       "        0.00523747, 0.00505828, 0.00489123, 0.00473513, 0.00458892,\n",
       "        0.00445168, 0.00432261, 0.00420099, 0.00408618, 0.00397763]))"
      ]
     },
     "execution_count": 18,
     "metadata": {},
     "output_type": "execute_result"
    }
   ],
   "source": [
    "costoN(30)"
   ]
  },
  {
   "cell_type": "code",
   "execution_count": 66,
   "metadata": {},
   "outputs": [],
   "source": [
    "copias=costoN(160)[0]\n",
    "costoProm=costoN(160)[1]"
   ]
  },
  {
   "cell_type": "code",
   "execution_count": 76,
   "metadata": {},
   "outputs": [
    {
     "data": {
      "text/plain": [
       "[<matplotlib.lines.Line2D at 0x7f18627cdf10>]"
      ]
     },
     "execution_count": 76,
     "metadata": {},
     "output_type": "execute_result"
    },
    {
     "data": {
      "image/png": "[encoded data removed]",
      "text/plain": [
       "<Figure size 936x360 with 2 Axes>"
      ]
     },
     "metadata": {
      "needs_background": "light"
     },
     "output_type": "display_data"
    }
   ],
   "source": [
    "plt.figure(figsize=(13,5))\n",
    "plt.subplot(1,2,1)\n",
    "plt.plot(copias,costoProm)\n",
    "plt.xlabel(\"Número de sistemas N\")\n",
    "plt.ylabel(\"Costo promedio\"+r\"$\\bar(C)$\")\n",
    "plt.subplot(1,2,2)\n",
    "plt.xlabel(r\"$ln(N)$\")\n",
    "plt.ylabel(r\"$ln(\\bar{C})$\")\n",
    "plt.plot(np.log(copias),np.log(costoProm))"
   ]
  },
  {
   "cell_type": "code",
   "execution_count": 68,
   "metadata": {},
   "outputs": [],
   "source": [
    "x,y=np.log(costoN(100)[0][50:]).reshape((-1,1)),np.log(costoN(100)[1][50:])"
   ]
  },
  {
   "cell_type": "code",
   "execution_count": 69,
   "metadata": {},
   "outputs": [],
   "source": [
    "from sklearn.linear_model import LinearRegression"
   ]
  },
  {
   "cell_type": "code",
   "execution_count": 70,
   "metadata": {},
   "outputs": [],
   "source": [
    "model=LinearRegression()"
   ]
  },
  {
   "cell_type": "code",
   "execution_count": 71,
   "metadata": {},
   "outputs": [
    {
     "data": {
      "text/plain": [
       "LinearRegression()"
      ]
     },
     "execution_count": 71,
     "metadata": {},
     "output_type": "execute_result"
    }
   ],
   "source": [
    "model.fit(x,y)"
   ]
  },
  {
   "cell_type": "code",
   "execution_count": 72,
   "metadata": {},
   "outputs": [],
   "source": [
    "model=LinearRegression().fit(x,y)"
   ]
  },
  {
   "cell_type": "code",
   "execution_count": 73,
   "metadata": {},
   "outputs": [
    {
     "data": {
      "text/plain": [
       "0.9999444280356106"
      ]
     },
     "execution_count": 73,
     "metadata": {},
     "output_type": "execute_result"
    }
   ],
   "source": [
    "model.score(x,y)"
   ]
  },
  {
   "cell_type": "code",
   "execution_count": 74,
   "metadata": {},
   "outputs": [
    {
     "data": {
      "text/plain": [
       "0.08298537435107377"
      ]
     },
     "execution_count": 74,
     "metadata": {},
     "output_type": "execute_result"
    }
   ],
   "source": [
    "inter=model.intercept_\n",
    "np.exp(inter)"
   ]
  },
  {
   "cell_type": "code",
   "execution_count": 75,
   "metadata": {},
   "outputs": [
    {
     "data": {
      "text/plain": [
       "array([-0.88350967])"
      ]
     },
     "execution_count": 75,
     "metadata": {},
     "output_type": "execute_result"
    }
   ],
   "source": [
    "coef=model.coef_\n",
    "coef"
   ]
  },
  {
   "cell_type": "code",
   "execution_count": null,
   "metadata": {},
   "outputs": [],
   "source": []
  }
 ],
 "metadata": {
  "kernelspec": {
   "display_name": "Python 3",
   "language": "python",
   "name": "python3"
  },
  "language_info": {
   "codemirror_mode": {
    "name": "ipython",
    "version": 3
   },
   "file_extension": ".py",
   "mimetype": "text/x-python",
   "name": "python",
   "nbconvert_exporter": "python",
   "pygments_lexer": "ipython3",
   "version": "3.7.8"
  }
 },
 "nbformat": 4,
 "nbformat_minor": 4
}
